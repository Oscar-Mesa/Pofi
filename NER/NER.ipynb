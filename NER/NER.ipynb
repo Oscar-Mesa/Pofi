{
 "cells": [
  {
   "cell_type": "markdown",
   "metadata": {},
   "source": [
    "NOTA IMPORTANTE: Si el signo \"!\" no sirve para ejecutar comando de consola se debe actualizar la siguiente libreria\n",
    "pip install --upgrade click"
   ]
  },
  {
   "cell_type": "code",
   "execution_count": null,
   "metadata": {
    "id": "l4ldb0zXKcld"
   },
   "outputs": [],
   "source": [
    "#!pip install spacy\n",
    "#!pip install spacy-transformers\n",
    "#!pip install spacy[cuda100]"
   ]
  },
  {
   "cell_type": "code",
   "execution_count": null,
   "metadata": {
    "id": "j_FrCO_wK6Xm"
   },
   "outputs": [],
   "source": [
    "#!python -m spacy download es_core_news_sm\n",
    "!python -m spacy info"
   ]
  },
  {
   "cell_type": "code",
   "execution_count": 2,
   "metadata": {
    "id": "K0UNNFNEKvMO"
   },
   "outputs": [],
   "source": [
    "import spacy\n",
    "from spacy.tokens import DocBin\n",
    "from tqdm import tqdm\n",
    "\n",
    "nlp = spacy.blank(\"es\")\n",
    "db = DocBin()"
   ]
  },
  {
   "cell_type": "code",
   "execution_count": 4,
   "metadata": {},
   "outputs": [
    {
     "data": {
      "text/plain": [
       "False"
      ]
     },
     "execution_count": 4,
     "metadata": {},
     "output_type": "execute_result"
    }
   ],
   "source": [
    "#spacy.prefer_gpu()\n",
    "#spacy.require_gpu()"
   ]
  },
  {
   "cell_type": "markdown",
   "metadata": {},
   "source": [
    "Página para taggear palabras\n",
    "Aqui va el archivo json ya \"segmentado\"\n",
    "pagina para segmentar de spacy \n",
    "https://tecoholic.github.io/ner-annotator/"
   ]
  },
  {
   "cell_type": "code",
   "execution_count": null,
   "metadata": {
    "id": "3Ec8lz8E2RCy"
   },
   "outputs": [],
   "source": [
    "import json \n",
    "tdata = 'datos_training.json'\n",
    "vdata = 'datos_validation.json'\n",
    "\n",
    "\n",
    "f = open(vdata,\"r\",encoding=\"utf-8\")\n",
    "TRAIN_DATA = json.load"
   ]
  },
  {
   "cell_type": "code",
   "execution_count": 23,
   "metadata": {
    "id": "3Ec8lz8E2RCy"
   },
   "outputs": [
    {
     "name": "stdout",
     "output_type": "stream",
     "text": [
      "['\"Pofi, reproduce\",Adiós a Jamaica (Jamaica Farewell),del,Los Hooligans\\r', {'entities': [[1, 5, 'POFI'], [7, 16, 'ORDEN'], [18, 33, 'CANCION'], [53, 56, 'PREPOSICION'], [57, 70, 'ARTISTA']]}]\n"
     ]
    }
   ],
   "source": [
    "\n",
    "print(TRAIN_DATA[\"annotations\"][0])"
   ]
  },
  {
   "cell_type": "code",
   "execution_count": null,
   "metadata": {
    "id": "L92GMyfNG2c5"
   },
   "outputs": [],
   "source": [
    "TRAIN_DATA"
   ]
  },
  {
   "cell_type": "code",
   "execution_count": null,
   "metadata": {
    "colab": {
     "base_uri": "https://localhost:8080/"
    },
    "id": "3Riw-hU0FLFG",
    "outputId": "89bc3c4f-67c0-4c17-87d2-a12e183ab200"
   },
   "outputs": [],
   "source": [
    "for text, annot in tqdm(TRAIN_DATA[\"annotations\"]):\n",
    "    doc = nlp.make_doc(text)\n",
    "    ents = []\n",
    "    for start, end, label in annot[\"entities\"]:\n",
    "        span = doc.char_span(start, end, label=label, alignment_mode=\"contract\")\n",
    "        if span is None:\n",
    "          print(\"salto de entidad\")\n",
    "        else:\n",
    "          ents.append(span)\n",
    "    doc.ents = ents\n",
    "    db.add(doc)\n",
    "\n",
    "#el json hay que convertirlo a .spacy porque es la unica forma en que esa librería\n",
    "#lo pueda leer \n",
    "db.to_disk(\"datos_validation.spacy\")"
   ]
  },
  {
   "cell_type": "code",
   "execution_count": null,
   "metadata": {},
   "outputs": [],
   "source": [
    "from spacy.util import filter_spans\n",
    "\n",
    "for text,training_example  in tqdm(TRAIN_DATA['annotations']): \n",
    "    labels = training_example['entities']\n",
    "    doc = nlp.make_doc(text) \n",
    "    ents = []\n",
    "    for start, end, label in labels:\n",
    "        span = doc.char_span(start, end, label=label, alignment_mode=\"contract\")\n",
    "        if span is None:\n",
    "            print(\"Skipping entity\")\n",
    "        else:\n",
    "            ents.append(span)\n",
    "    filtered_ents = filter_spans(ents)\n",
    "    doc.ents = filtered_ents \n",
    "    db.add(doc)\n",
    "\n",
    "db.to_disk(\"validation_data.spacy\") # save the docbin object"
   ]
  },
  {
   "cell_type": "markdown",
   "metadata": {},
   "source": [
    "Este segmento es para crear el archivo config\n",
    "este archivo config también se puede descargar de\n",
    "https://spacy.io/usage/training"
   ]
  },
  {
   "cell_type": "markdown",
   "metadata": {},
   "source": [
    "El archivo config que está debajo es creado mediante código y usa la CPU para entrenar el modelo por lo tanto no tiene la arquitectura transformer"
   ]
  },
  {
   "cell_type": "code",
   "execution_count": 25,
   "metadata": {
    "colab": {
     "base_uri": "https://localhost:8080/"
    },
    "id": "gA2qVQ9bJ1lc",
    "outputId": "3448a74f-81ff-497c-dd03-33c0f9a8c277"
   },
   "outputs": [
    {
     "name": "stdout",
     "output_type": "stream",
     "text": [
      "\u001b[38;5;4mℹ Generated config template specific for your use case\u001b[0m\n",
      "- Language: es\n",
      "- Pipeline: ner\n",
      "- Optimize for: efficiency\n",
      "- Hardware: CPU\n",
      "- Transformer: None\n",
      "\u001b[38;5;2m✔ Auto-filled config with all values\u001b[0m\n",
      "\u001b[38;5;2m✔ Saved config\u001b[0m\n",
      "config.cfg\n",
      "You can now add your data and train your pipeline:\n",
      "python -m spacy train config.cfg --paths.train ./train.spacy --paths.dev ./dev.spacy\n"
     ]
    },
    {
     "name": "stderr",
     "output_type": "stream",
     "text": [
      "c:\\Users\\Oscar\\AppData\\Local\\Programs\\Python\\Python39\\lib\\site-packages\\cupy\\_environment.py:213: UserWarning: CUDA path could not be detected. Set CUDA_PATH environment variable if CuPy fails to load.\n",
      "  warnings.warn(\n",
      "c:\\Users\\Oscar\\AppData\\Local\\Programs\\Python\\Python39\\lib\\site-packages\\cupy\\_environment.py:213: UserWarning: CUDA path could not be detected. Set CUDA_PATH environment variable if CuPy fails to load.\n",
      "  warnings.warn(\n",
      "c:\\Users\\Oscar\\AppData\\Local\\Programs\\Python\\Python39\\lib\\site-packages\\cupy\\_environment.py:213: UserWarning: CUDA path could not be detected. Set CUDA_PATH environment variable if CuPy fails to load.\n",
      "  warnings.warn(\n",
      "c:\\Users\\Oscar\\AppData\\Local\\Programs\\Python\\Python39\\lib\\site-packages\\cupy\\_environment.py:213: UserWarning: CUDA path could not be detected. Set CUDA_PATH environment variable if CuPy fails to load.\n",
      "  warnings.warn(\n"
     ]
    }
   ],
   "source": [
    "\n",
    "!python -m spacy init config config.cfg --lang es --pipeline ner --optimize efficiency"
   ]
  },
  {
   "cell_type": "markdown",
   "metadata": {},
   "source": [
    "Este segundo archivo config es descargado de la página y configurado con el idioma español, NER, GPU para que use la arquitectura transformer"
   ]
  },
  {
   "cell_type": "code",
   "execution_count": 5,
   "metadata": {},
   "outputs": [
    {
     "name": "stdout",
     "output_type": "stream",
     "text": [
      "\u001b[38;5;2m✔ Auto-filled config with all values\u001b[0m\n",
      "\u001b[38;5;2m✔ Saved config\u001b[0m\n",
      "config.cfg\n",
      "You can now add your data and train your pipeline:\n",
      "python -m spacy train config.cfg --paths.train ./train.spacy --paths.dev ./dev.spacy\n"
     ]
    }
   ],
   "source": [
    "!python -m spacy init fill-config base_config.cfg config.cfg"
   ]
  },
  {
   "cell_type": "markdown",
   "metadata": {},
   "source": [
    "El primer archivo es para entrenar, el segundo para validar"
   ]
  },
  {
   "cell_type": "code",
   "execution_count": 3,
   "metadata": {
    "id": "shNOxSJNNQWJ"
   },
   "outputs": [
    {
     "name": "stdout",
     "output_type": "stream",
     "text": [
      "\u001b[38;5;4m[i] Saving to output directory: .\u001b[0m\n",
      "\u001b[38;5;4m[i] Using CPU\u001b[0m\n",
      "\u001b[1m\n",
      "=========================== Initializing pipeline ===========================\u001b[0m\n",
      "\u001b[38;5;2m[+] Initialized pipeline\u001b[0m\n",
      "\u001b[1m\n",
      "============================= Training pipeline =============================\u001b[0m\n",
      "\u001b[38;5;4m[i] Pipeline: ['tok2vec', 'ner']\u001b[0m\n",
      "\u001b[38;5;4m[i] Initial learn rate: 0.001\u001b[0m\n",
      "E    #       LOSS TOK2VEC  LOSS NER  ENTS_F  ENTS_P  ENTS_R  SCORE \n",
      "---  ------  ------------  --------  ------  ------  ------  ------\n",
      "  0       0          0.00     63.95    0.00    0.00    0.00    0.00\n",
      "  2     200        147.99   1488.29   98.62   98.28   98.95    0.99\n",
      "  5     400        235.47    228.68   99.09   99.07   99.11    0.99\n",
      "  8     600        207.94    194.89   99.01   98.89   99.13    0.99\n",
      " 13     800        324.61    179.56   98.95   98.97   98.93    0.99\n",
      " 18    1000        398.58    209.67   99.25   99.29   99.20    0.99\n",
      " 24    1200        419.32    190.10   99.16   99.16   99.16    0.99\n",
      " 32    1400        301.17    141.83   99.32   99.36   99.27    0.99\n",
      " 42    1600        203.08    104.36   99.38   99.45   99.32    0.99\n",
      " 54    1800       1848.02    170.49   99.25   99.16   99.34    0.99\n",
      " 69    2000       1036.45    121.64   99.40   99.57   99.23    0.99\n",
      " 87    2200       2103.52    158.19   99.30   99.38   99.23    0.99\n",
      "108    2400       2707.24    157.16   99.31   99.27   99.34    0.99\n",
      "130    2600       9570.77    214.79   99.54   99.52   99.57    1.00\n",
      "152    2800       6235.95    185.30   99.41   99.39   99.43    0.99\n",
      "175    3000      11409.03    189.31   99.54   99.54   99.54    1.00\n",
      "197    3200       5880.51     79.44   99.49   99.41   99.57    0.99\n",
      "219    3400      10399.76     50.31   99.39   99.36   99.41    0.99\n",
      "241    3600       4914.77     40.50   99.43   99.36   99.50    0.99\n",
      "263    3800        278.38     12.37   99.51   99.57   99.45    1.00\n",
      "286    4000         96.06      3.05   99.50   99.52   99.48    0.99\n",
      "308    4200          0.00      0.00   99.50   99.52   99.48    0.99\n",
      "\u001b[38;5;2m[+] Saved pipeline to output directory\u001b[0m\n",
      "model-last\n"
     ]
    },
    {
     "name": "stderr",
     "output_type": "stream",
     "text": [
      "C:\\Users\\Oscar\\AppData\\Local\\Programs\\Python\\Python39\\lib\\site-packages\\cupy\\_environment.py:213: UserWarning: CUDA path could not be detected. Set CUDA_PATH environment variable if CuPy fails to load.\n",
      "  warnings.warn(\n",
      "C:\\Users\\Oscar\\AppData\\Local\\Programs\\Python\\Python39\\lib\\site-packages\\cupy\\_environment.py:213: UserWarning: CUDA path could not be detected. Set CUDA_PATH environment variable if CuPy fails to load.\n",
      "  warnings.warn(\n",
      "C:\\Users\\Oscar\\AppData\\Local\\Programs\\Python\\Python39\\lib\\site-packages\\cupy\\_environment.py:213: UserWarning: CUDA path could not be detected. Set CUDA_PATH environment variable if CuPy fails to load.\n",
      "  warnings.warn(\n",
      "C:\\Users\\Oscar\\AppData\\Local\\Programs\\Python\\Python39\\lib\\site-packages\\cupy\\_environment.py:213: UserWarning: CUDA path could not be detected. Set CUDA_PATH environment variable if CuPy fails to load.\n",
      "  warnings.warn(\n",
      "[2023-05-14 22:24:31,296] [INFO] Set up nlp object from config\n",
      "[2023-05-14 22:24:31,308] [INFO] Pipeline: ['tok2vec', 'ner']\n",
      "[2023-05-14 22:24:31,313] [INFO] Created vocabulary\n",
      "[2023-05-14 22:24:31,314] [INFO] Finished initializing nlp object\n",
      "[2023-05-14 22:24:32,443] [INFO] Initialized pipeline components: ['tok2vec', 'ner']\n"
     ]
    }
   ],
   "source": [
    "\n",
    "!python -m spacy train config.cfg --output ./ --paths.train ./training_data.spacy --paths.dev ./validation_data.spacy"
   ]
  },
  {
   "cell_type": "code",
   "execution_count": 4,
   "metadata": {
    "id": "EQCdJDoVNuoi"
   },
   "outputs": [],
   "source": [
    "nlp_ner = spacy.load(\"model-last\")"
   ]
  },
  {
   "cell_type": "code",
   "execution_count": 143,
   "metadata": {
    "id": "WRk0VHQzPC97"
   },
   "outputs": [],
   "source": [
    "doc = nlp_ner('Pofi, tocame\", \"lejo de ti\",de, kaden')"
   ]
  },
  {
   "cell_type": "code",
   "execution_count": 144,
   "metadata": {
    "colab": {
     "base_uri": "https://localhost:8080/",
     "height": 1000
    },
    "id": "VC1t7_INPEpd",
    "outputId": "f07cf571-76a3-46a5-bfe9-b8ab0490d145"
   },
   "outputs": [
    {
     "data": {
      "text/html": [
       "<span class=\"tex2jax_ignore\"><div class=\"entities\" style=\"line-height: 2.5; direction: ltr\">\n",
       "<mark class=\"entity\" style=\"background: #ddd; padding: 0.45em 0.6em; margin: 0 0.25em; line-height: 1; border-radius: 0.35em;\">\n",
       "    Pofi\n",
       "    <span style=\"font-size: 0.8em; font-weight: bold; line-height: 1; border-radius: 0.35em; vertical-align: middle; margin-left: 0.5rem\">POFI</span>\n",
       "</mark>\n",
       ", \n",
       "<mark class=\"entity\" style=\"background: #ddd; padding: 0.45em 0.6em; margin: 0 0.25em; line-height: 1; border-radius: 0.35em;\">\n",
       "    tocame\n",
       "    <span style=\"font-size: 0.8em; font-weight: bold; line-height: 1; border-radius: 0.35em; vertical-align: middle; margin-left: 0.5rem\">ORDEN</span>\n",
       "</mark>\n",
       "&quot;, &quot;\n",
       "<mark class=\"entity\" style=\"background: #ddd; padding: 0.45em 0.6em; margin: 0 0.25em; line-height: 1; border-radius: 0.35em;\">\n",
       "    lejo de\n",
       "    <span style=\"font-size: 0.8em; font-weight: bold; line-height: 1; border-radius: 0.35em; vertical-align: middle; margin-left: 0.5rem\">CANCION</span>\n",
       "</mark>\n",
       " ti&quot;,de, \n",
       "<mark class=\"entity\" style=\"background: #ddd; padding: 0.45em 0.6em; margin: 0 0.25em; line-height: 1; border-radius: 0.35em;\">\n",
       "    kaden\n",
       "    <span style=\"font-size: 0.8em; font-weight: bold; line-height: 1; border-radius: 0.35em; vertical-align: middle; margin-left: 0.5rem\">ARTISTA</span>\n",
       "</mark>\n",
       "</div></span>"
      ],
      "text/plain": [
       "<IPython.core.display.HTML object>"
      ]
     },
     "metadata": {},
     "output_type": "display_data"
    }
   ],
   "source": [
    "spacy.displacy.render(doc, style=\"ent\", jupyter=True)"
   ]
  }
 ],
 "metadata": {
  "colab": {
   "provenance": []
  },
  "kernelspec": {
   "display_name": "Python 3 (ipykernel)",
   "language": "python",
   "name": "python3"
  },
  "language_info": {
   "codemirror_mode": {
    "name": "ipython",
    "version": 3
   },
   "file_extension": ".py",
   "mimetype": "text/x-python",
   "name": "python",
   "nbconvert_exporter": "python",
   "pygments_lexer": "ipython3",
   "version": "3.9.5"
  }
 },
 "nbformat": 4,
 "nbformat_minor": 1
}
