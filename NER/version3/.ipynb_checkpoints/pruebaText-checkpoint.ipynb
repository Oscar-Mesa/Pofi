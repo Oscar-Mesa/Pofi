{
 "cells": [
  {
   "cell_type": "markdown",
   "metadata": {},
   "source": [
    "#Imprimir el contenido de la imagen"
   ]
  },
  {
   "cell_type": "code",
   "execution_count": 79,
   "metadata": {},
   "outputs": [
    {
     "name": "stdout",
     "output_type": "stream",
     "text": [
      "pofi muestra ansiedad del albert hammond\n",
      "\n"
     ]
    }
   ],
   "source": [
    "import pytesseract\n",
    "from PIL import Image\n",
    "pytesseract.pytesseract.tesseract_cmd = r'C:\\Users\\Oscar\\AppData\\Local\\Tesseract-OCR\\tesseract.exe'\n",
    "\n",
    "\n",
    "im = Image.open(\"muestra.PNG\")\n",
    "print(pytesseract.image_to_string(im))"
   ]
  },
  {
   "cell_type": "markdown",
   "metadata": {},
   "source": [
    "#Para mostrar las letras encerradas en cuadros"
   ]
  },
  {
   "cell_type": "code",
   "execution_count": 84,
   "metadata": {},
   "outputs": [
    {
     "name": "stdout",
     "output_type": "stream",
     "text": [
      "pofi muestra ansiedad del albert hammond\n",
      "\n",
      "p 29 340 38 353 0\n",
      "o 34 340 44 358 0\n",
      "f 39 344 55 358 0\n",
      "i 56 344 58 357 0\n",
      "m 69 344 81 353 0\n",
      "u 78 344 88 356 0\n",
      "e 84 344 92 353 0\n",
      "s 94 344 102 353 0\n",
      "t 103 344 109 353 0\n",
      "r 110 344 122 356 0\n",
      "a 123 344 130 353 0\n",
      "a 140 344 148 353 0\n",
      "n 150 344 158 353 0\n",
      "s 160 344 166 353 0\n",
      "i 168 344 169 353 0\n",
      "e 172 344 180 353 0\n",
      "d 181 344 190 358 0\n",
      "a 192 344 199 353 0\n",
      "d 201 344 209 358 0\n",
      "d 219 344 224 358 0\n",
      "e 219 344 228 358 0\n",
      "l 230 344 242 358 0\n",
      "a 252 344 259 353 0\n",
      "l 261 344 263 358 0\n",
      "b 266 344 274 358 0\n",
      "e 276 344 284 353 0\n",
      "r 286 344 297 356 0\n",
      "t 293 344 297 358 0\n",
      "h 306 344 323 358 0\n",
      "a 321 344 331 358 0\n",
      "m 325 344 338 353 0\n",
      "m 341 344 354 353 0\n",
      "o 356 344 365 353 0\n",
      "n 367 344 375 353 0\n",
      "d 377 344 385 358 0\n",
      "\n"
     ]
    }
   ],
   "source": [
    "import cv2\n",
    "import pytesseract\n",
    "pytesseract.pytesseract.tesseract_cmd = r'C:\\Users\\Oscar\\AppData\\Local\\Tesseract-OCR\\tesseract.exe'\n",
    "\n",
    "# Cargar la imagen\n",
    "im = cv2.imread(\"muestra.PNG\")\n",
    "\n",
    "# Convertir la imagen a escala de grises\n",
    "im_gray = cv2.cvtColor(im, cv2.COLOR_BGR2GRAY)\n",
    "\n",
    "# Aplicar OCR para reconocer el texto\n",
    "text = pytesseract.image_to_string(im_gray)\n",
    "\n",
    "print(text)\n",
    "\n",
    "# Obtener las coordenadas de los cuadros alrededor de las palabras reconocidas\n",
    "boxes = pytesseract.image_to_boxes(im_gray)\n",
    "print(boxes)\n",
    "\n",
    "# Dibujar los cuadros en la imagen original\n",
    "for box in boxes.splitlines():\n",
    "    box = box.split(' ')\n",
    "    x, y, w, h = int(box[1]), int(box[2]), int(box[3]), int(box[4])\n",
    "    cv2.rectangle(im, (x, im.shape[0] - y), (w, im.shape[0] - h), (0, 255, 0), 1)\n",
    "\n",
    "# Mostrar la imagen con los cuadros\n",
    "cv2.imshow(\"Texto encerrado en cuadros\", im)\n",
    "cv2.waitKey(0)\n",
    "cv2.destroyAllWindows()\n"
   ]
  },
  {
   "cell_type": "markdown",
   "metadata": {},
   "source": [
    "#Mostrar palabras"
   ]
  },
  {
   "cell_type": "code",
   "execution_count": 11,
   "metadata": {},
   "outputs": [],
   "source": [
    "import pytesseract\n",
    "pytesseract.pytesseract.tesseract_cmd = r'C:\\Users\\Oscar\\AppData\\Local\\Tesseract-OCR\\tesseract.exe'\n",
    "import numpy as np\n",
    "from PIL import Image\n",
    "import cv2\n",
    "\n",
    "\n",
    "im = Image.open(\"muestra.PNG\")\n",
    "gray = im.convert(\"L\")\n",
    "text = pytesseract.image_to_string(gray, lang=\"eng\")\n",
    "words = text.split()\n",
    "\n",
    "# Obtener las coordenadas de los cuadros alrededor de las palabras reconocidas\n",
    "boxes_data = pytesseract.image_to_data(gray, lang=\"eng\", output_type=pytesseract.Output.DICT)\n",
    "lefts = boxes_data[\"left\"]\n",
    "tops = boxes_data[\"top\"]\n",
    "widths = boxes_data[\"width\"]\n",
    "heights = boxes_data[\"height\"]\n",
    "\n",
    "# Dibujar los cuadros en la imagen original alrededor de las palabras\n",
    "img_cv = cv2.cvtColor(np.array(im), cv2.COLOR_RGB2BGR)\n",
    "for word, left, top, width, height in zip(words, lefts, tops, widths, heights):\n",
    "    cv2.rectangle(img_cv, (left, top), (left + width, top + height), (0, 255, 0), 2)\n",
    "\n",
    "# Mostrar la imagen con los cuadros alrededor de las palabras\n",
    "cv2.imshow(\"Image\", img_cv)\n",
    "cv2.waitKey(0)\n",
    "cv2.destroyAllWindows()\n",
    "\n"
   ]
  },
  {
   "cell_type": "markdown",
   "metadata": {},
   "source": [
    "#Ahora lo mismo con Keras, estoy buscando, eficacia y eficiencia "
   ]
  },
  {
   "cell_type": "code",
   "execution_count": 45,
   "metadata": {},
   "outputs": [
    {
     "name": "stdout",
     "output_type": "stream",
     "text": [
      "Looking for C:\\Users\\Oscar\\.keras-ocr\\craft_mlt_25k.h5\n",
      "Looking for C:\\Users\\Oscar\\.keras-ocr\\crnn_kurapan.h5\n"
     ]
    }
   ],
   "source": [
    "import keras_ocr\n",
    "import cv2\n",
    "from PIL import Image\n",
    "\n",
    "# Cargar el modelo de reconocimiento de texto\n",
    "pipeline = keras_ocr.pipeline.Pipeline()\n",
    "\n"
   ]
  },
  {
   "cell_type": "code",
   "execution_count": 59,
   "metadata": {},
   "outputs": [
    {
     "name": "stdout",
     "output_type": "stream",
     "text": [
      "1/1 [==============================] - 13s 13s/step\n",
      "1/1 [==============================] - 1s 883ms/step\n"
     ]
    }
   ],
   "source": [
    "# Cargar la imagen\n",
    "\n",
    "image = cv2.imread(\"./muestra.PNG\")\n",
    "#im_gray = cv2.cvtColor(image, cv2.COLOR_BGR2GRAY)\n",
    "# Obtener las predicciones de reconocimiento de texto\n",
    "results = pipeline.recognize([image])\n",
    "\n",
    "# Mostrar el texto reconocido\n",
    "# for result in results[0]:\n",
    "#     print(result[0])  # Texto reconocido\n",
    "#     print(result[1])  # Coordenadas del cuadro del texto\n",
    "\n"
   ]
  },
  {
   "cell_type": "code",
   "execution_count": 60,
   "metadata": {},
   "outputs": [
    {
     "data": {
      "text/html": [
       "<div>\n",
       "<style scoped>\n",
       "    .dataframe tbody tr th:only-of-type {\n",
       "        vertical-align: middle;\n",
       "    }\n",
       "\n",
       "    .dataframe tbody tr th {\n",
       "        vertical-align: top;\n",
       "    }\n",
       "\n",
       "    .dataframe thead th {\n",
       "        text-align: right;\n",
       "    }\n",
       "</style>\n",
       "<table border=\"1\" class=\"dataframe\">\n",
       "  <thead>\n",
       "    <tr style=\"text-align: right;\">\n",
       "      <th></th>\n",
       "      <th>text</th>\n",
       "      <th>bbox</th>\n",
       "    </tr>\n",
       "  </thead>\n",
       "  <tbody>\n",
       "    <tr>\n",
       "      <th>0</th>\n",
       "      <td>pofi</td>\n",
       "      <td>[[25.780195, 42.319813], [59.699192, 36.334106...</td>\n",
       "    </tr>\n",
       "    <tr>\n",
       "      <th>1</th>\n",
       "      <td>ansiedad</td>\n",
       "      <td>[[139.13574, 38.03711], [211.20605, 38.03711],...</td>\n",
       "    </tr>\n",
       "    <tr>\n",
       "      <th>2</th>\n",
       "      <td>del</td>\n",
       "      <td>[[217.21191, 37.036133], [244.23828, 37.036133...</td>\n",
       "    </tr>\n",
       "    <tr>\n",
       "      <th>3</th>\n",
       "      <td>albert</td>\n",
       "      <td>[[250.24414, 38.03711], [298.29102, 38.03711],...</td>\n",
       "    </tr>\n",
       "    <tr>\n",
       "      <th>4</th>\n",
       "      <td>hammond</td>\n",
       "      <td>[[304.29688, 38.03711], [387.37793, 38.03711],...</td>\n",
       "    </tr>\n",
       "    <tr>\n",
       "      <th>5</th>\n",
       "      <td>muestra</td>\n",
       "      <td>[[68.06639, 39.038082], [132.12889, 39.038082]...</td>\n",
       "    </tr>\n",
       "  </tbody>\n",
       "</table>\n",
       "</div>"
      ],
      "text/plain": [
       "       text                                               bbox\n",
       "0      pofi  [[25.780195, 42.319813], [59.699192, 36.334106...\n",
       "1  ansiedad  [[139.13574, 38.03711], [211.20605, 38.03711],...\n",
       "2       del  [[217.21191, 37.036133], [244.23828, 37.036133...\n",
       "3    albert  [[250.24414, 38.03711], [298.29102, 38.03711],...\n",
       "4   hammond  [[304.29688, 38.03711], [387.37793, 38.03711],...\n",
       "5   muestra  [[68.06639, 39.038082], [132.12889, 39.038082]..."
      ]
     },
     "execution_count": 60,
     "metadata": {},
     "output_type": "execute_result"
    }
   ],
   "source": [
    "import matplotlib.pyplot as plt\n",
    "import pandas as pd\n",
    "pd.DataFrame(results[0],columns=[\"text\",\"bbox\"])\n",
    "#"
   ]
  },
  {
   "cell_type": "code",
   "execution_count": 50,
   "metadata": {},
   "outputs": [
    {
     "name": "stderr",
     "output_type": "stream",
     "text": [
      "Clipping input data to the valid range for imshow with RGB data ([0..1] for floats or [0..255] for integers).\n"
     ]
    },
    {
     "data": {
      "text/plain": [
       "<Axes: >"
      ]
     },
     "execution_count": 50,
     "metadata": {},
     "output_type": "execute_result"
    },
    {
     "data": {
      "image/png": "[encoded data removed]",
      "text/plain": [
       "<Figure size 640x480 with 1 Axes>"
      ]
     },
     "metadata": {},
     "output_type": "display_data"
    }
   ],
   "source": [
    "keras_ocr.tools.drawAnnotations(plt.imread(\"muestra.PNG\"), results[0])"
   ]
  },
  {
   "cell_type": "markdown",
   "metadata": {},
   "source": [
    "#Ahora voy a usar el modulo easycr"
   ]
  },
  {
   "cell_type": "code",
   "execution_count": 74,
   "metadata": {},
   "outputs": [
    {
     "name": "stderr",
     "output_type": "stream",
     "text": [
      "Using CPU. Note: This module is much faster with a GPU.\n"
     ]
    }
   ],
   "source": [
    "import easyocr\n",
    "import cv2\n",
    "\n",
    "reader = easyocr.Reader([\"es\"],gpu=False)\n"
   ]
  },
  {
   "cell_type": "code",
   "execution_count": 83,
   "metadata": {},
   "outputs": [
    {
     "data": {
      "text/plain": [
       "[([[26, 34], [62, 34], [62, 58], [26, 58]], 'pofi', 0.9960606046423577),\n",
       " ([[66, 32], [390, 32], [390, 58], [66, 58]],\n",
       "  'muestra ansiedad del albert hammond',\n",
       "  0.7957342436461107)]"
      ]
     },
     "execution_count": 83,
     "metadata": {},
     "output_type": "execute_result"
    }
   ],
   "source": [
    "results = reader.readtext(\"muestra.PNG\",paragraph=False)\n",
    "\n",
    "results"
   ]
  },
  {
   "cell_type": "code",
   "execution_count": 82,
   "metadata": {},
   "outputs": [
    {
     "name": "stdout",
     "output_type": "stream",
     "text": [
      "res: [[[26, 32], [390, 32], [390, 58], [26, 58]], 'pofi muestra ansiedad del albert hammond']\n"
     ]
    }
   ],
   "source": [
    "image = cv2.imread(\"muestra.PNG\")\n",
    "\n",
    "result = reader.readtext(image, paragraph=True)\n",
    "for res in result:\n",
    "     print(\"res:\", res)\n",
    "     pt0 = res[0][0]\n",
    "     pt1 = res[0][1]\n",
    "     pt2 = res[0][2]\n",
    "     pt3 = res[0][3]\n",
    "     cv2.rectangle(image, pt0, (pt1[0], pt1[1] - 23), (166, 56, 242), -1)\n",
    "     cv2.putText(image, res[1], (pt0[0], pt0[1] -3), 2, 0.8, (255, 255, 255), 1)\n",
    "     cv2.rectangle(image, pt0, pt2, (166, 56, 242), 2)\n",
    "     cv2.circle(image, pt0, 2, (255, 0, 0), 2)\n",
    "     cv2.circle(image, pt1, 2, (0, 255, 0), 2)\n",
    "     cv2.circle(image, pt2, 2, (0, 0, 255), 2)\n",
    "     cv2.circle(image, pt3, 2, (0, 255, 255), 2)\n",
    "     cv2.imshow(\"Image\", image)\n",
    "     cv2.waitKey(0)\n",
    "cv2.destroyAllWindows()"
   ]
  },
  {
   "cell_type": "markdown",
   "metadata": {},
   "source": [
    "#Conclusión:\n",
    "keras separa las palabras como lo necesito pero se demora 15 segundos en darme las coordenadas y el texto que necesito\n",
    "\n",
    "easyocr separa algunas palabras y entonces las coordenadas no me son utilices ya que agrupa las palabras \n",
    "\n",
    "pytesseract aunque sea un dolor de cabeza la instalación, es el más rapido que hay, lo malo es que no separa las palabras sino que separa letra por letra, ún así me da las coordenadas de cada letra entonces debo averiguar como usar eso \n"
   ]
  }
 ],
 "metadata": {
  "kernelspec": {
   "display_name": "Python 3 (ipykernel)",
   "language": "python",
   "name": "python3"
  },
  "language_info": {
   "codemirror_mode": {
    "name": "ipython",
    "version": 3
   },
   "file_extension": ".py",
   "mimetype": "text/x-python",
   "name": "python",
   "nbconvert_exporter": "python",
   "pygments_lexer": "ipython3",
   "version": "3.9.5"
  }
 },
 "nbformat": 4,
 "nbformat_minor": 2
}
