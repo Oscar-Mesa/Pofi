{
 "cells": [
  {
   "cell_type": "code",
   "execution_count": 3,
   "metadata": {},
   "outputs": [],
   "source": [
    "import spacy\n",
    "import pywhatkit"
   ]
  },
  {
   "cell_type": "code",
   "execution_count": 4,
   "metadata": {},
   "outputs": [],
   "source": [
    "nlp_ner = spacy.load(\"model-last\")"
   ]
  },
  {
   "cell_type": "code",
   "execution_count": 1,
   "metadata": {},
   "outputs": [
    {
     "ename": "NameError",
     "evalue": "name 'nlp_ner' is not defined",
     "output_type": "error",
     "traceback": [
      "\u001b[1;31m---------------------------------------------------------------------------\u001b[0m",
      "\u001b[1;31mNameError\u001b[0m                                 Traceback (most recent call last)",
      "Cell \u001b[1;32mIn[1], line 2\u001b[0m\n\u001b[0;32m      1\u001b[0m entrada \u001b[39m=\u001b[39m \u001b[39minput\u001b[39m(\u001b[39m\"\u001b[39m\u001b[39mCanción: \u001b[39m\u001b[39m\"\u001b[39m)\n\u001b[1;32m----> 2\u001b[0m doc \u001b[39m=\u001b[39m nlp_ner(entrada)\n\u001b[0;32m      3\u001b[0m spacy\u001b[39m.\u001b[39mdisplacy\u001b[39m.\u001b[39mrender(doc, style\u001b[39m=\u001b[39m\u001b[39m\"\u001b[39m\u001b[39ment\u001b[39m\u001b[39m\"\u001b[39m, jupyter\u001b[39m=\u001b[39m\u001b[39mTrue\u001b[39;00m)\n\u001b[0;32m      4\u001b[0m \u001b[39mfor\u001b[39;00m ent \u001b[39min\u001b[39;00m doc\u001b[39m.\u001b[39ments:\n\u001b[0;32m      5\u001b[0m     \u001b[39m#print(ent.text,ent.label_)\u001b[39;00m\n",
      "\u001b[1;31mNameError\u001b[0m: name 'nlp_ner' is not defined"
     ]
    }
   ],
   "source": [
    "entrada = input(\"Canción: \")\n",
    "doc = nlp_ner(entrada)\n",
    "spacy.displacy.render(doc, style=\"ent\", jupyter=True)\n",
    "for ent in doc.ents:\n",
    "    #print(ent.text,ent.label_)\n",
    "    if ent.label_ == \"CANCION\":\n",
    "        cancion = ent.text\n",
    "        print(str(cancion))\n",
    "\n",
    "        pywhatkit.playonyt(str(cancion))\n"
   ]
  }
 ],
 "metadata": {
  "kernelspec": {
   "display_name": "Python 3",
   "language": "python",
   "name": "python3"
  },
  "language_info": {
   "codemirror_mode": {
    "name": "ipython",
    "version": 3
   },
   "file_extension": ".py",
   "mimetype": "text/x-python",
   "name": "python",
   "nbconvert_exporter": "python",
   "pygments_lexer": "ipython3",
   "version": "3.9.5"
  },
  "orig_nbformat": 4
 },
 "nbformat": 4,
 "nbformat_minor": 2
}
